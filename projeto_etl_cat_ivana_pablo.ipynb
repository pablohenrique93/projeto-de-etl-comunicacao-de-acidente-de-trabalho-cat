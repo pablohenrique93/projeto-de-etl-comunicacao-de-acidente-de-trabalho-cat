{
  "nbformat": 4,
  "nbformat_minor": 0,
  "metadata": {
    "colab": {
      "provenance": [],
      "collapsed_sections": [
        "GcSOpmvXbm8o",
        "MkrMygcnbm8p",
        "NDQE48PQbm8n"
      ],
      "toc_visible": true,
      "include_colab_link": true
    },
    "kernelspec": {
      "name": "python3",
      "display_name": "Python 3"
    },
    "language_info": {
      "name": "python"
    },
    "gpuClass": "standard"
  },
  "cells": [
    {
      "cell_type": "markdown",
      "metadata": {
        "id": "view-in-github",
        "colab_type": "text"
      },
      "source": [
        "<a href=\"https://colab.research.google.com/github/pablohenrique93/projeto-de-etl-comunicacao-de-acidente-de-trabalho-cat/blob/main/projeto_etl_cat_ivana_pablo.ipynb\" target=\"_parent\"><img src=\"https://colab.research.google.com/assets/colab-badge.svg\" alt=\"Open In Colab\"/></a>"
      ]
    },
    {
      "cell_type": "markdown",
      "source": [
        "### INSTALAÇÃO BIBLIOTECAS"
      ],
      "metadata": {
        "id": "_vET-zf3LxGh"
      }
    },
    {
      "cell_type": "code",
      "execution_count": null,
      "metadata": {
        "id": "QT6B6GNf4eHU"
      },
      "outputs": [],
      "source": [
        "#INSTALAÇÃO DO PANDERA, PYSPARK E GOOGLE CLOUD RESPECTIVAMENTE.\n",
        "!pip install PYSPARK\n",
        "!pip install gcsfs"
      ]
    },
    {
      "cell_type": "markdown",
      "source": [
        "### IMPORTAÇÃO BIBLIOTECAS"
      ],
      "metadata": {
        "id": "gNNHn8WrL0TA"
      }
    },
    {
      "cell_type": "code",
      "source": [
        "#IMPORTAÇÃO DAS BIBLIOTECAS \n",
        "from pyspark.sql import SparkSession\n",
        "import pyspark.sql.functions\n",
        "from pyspark.sql.functions import *\n",
        "import os\n",
        "import pyspark.sql.functions as F\n",
        "import pandas as pd\n",
        "import numpy as np\n",
        "from pyspark.sql.window import Window\n",
        "from google.cloud import storage\n",
        "from pyspark.sql.types import *\n",
        "import pymongo\n",
        "from pymongo import MongoClient"
      ],
      "metadata": {
        "id": "IWz7dllZ7J1I"
      },
      "execution_count": null,
      "outputs": []
    },
    {
      "cell_type": "markdown",
      "source": [
        "# EXTRAÇÃO DA BASE DE DADOS"
      ],
      "metadata": {
        "id": "l0rGAY-a8dqA"
      }
    },
    {
      "cell_type": "code",
      "source": [
        "from google.colab import drive\n",
        "drive.mount('/content/drive')"
      ],
      "metadata": {
        "id": "I8KXhjqhsxwM"
      },
      "execution_count": null,
      "outputs": []
    },
    {
      "cell_type": "code",
      "source": [
        "serviceAccount = '/content/aulas-bc26-ivana-b8f6bd3e55b9.json'\n",
        "os.environ['GOOGLE_APPLICATION_CREDENTIALS'] = serviceAccount"
      ],
      "metadata": {
        "id": "mCaNH2MLw1eA"
      },
      "execution_count": null,
      "outputs": []
    },
    {
      "cell_type": "code",
      "source": [
        "# FAZER ACESSO AO BUCKET\n",
        "client = storage.Client()\n",
        "#client = storage.Client()\n",
        "# CRIAR UMA VARIÁVEL PARA RECEBER O NOME DA BUCKET\n",
        "bucket = client.get_bucket('bc26-datasets-ivana')\n",
        "blob1 = bucket.blob('D.SDA.PDA.005.CAT.202201 - D.SDA.PDA.005.CAT.202201_orig.csv')\n",
        "blob2 = bucket.blob('D.SDA.PDA.005.CAT.202204 - D.SDA.PDA.005.CAT.202204_orig.csv')\n",
        "blob3 = bucket.blob('D.SDA.PDA.005.CAT.202210 - D.SDA.PDA.005.CAT.202210_orig.csv')\n",
        "# CRIAR UMA VARIÁVEL PARA RECEBER O CAMINHO DO ARQUIVO\n",
        "path1 ='gs://bc26-datasets-ivana/projeto aquecimento/D.SDA.PDA.005.CAT.202201 - D.SDA.PDA.005.CAT.202201_orig.csv'\n",
        "path2 = 'gs://bc26-datasets-ivana/projeto aquecimento/D.SDA.PDA.005.CAT.202204 - D.SDA.PDA.005.CAT.202204_orig.csv'\n",
        "path3 = 'gs://bc26-datasets-ivana/projeto aquecimento/D.SDA.PDA.005.CAT.202210 - D.SDA.PDA.005.CAT.202210_orig.csv'\n",
        "df_pd_1 = pd.read_csv(path1, low_memory=False)\n",
        "df_pd_2 = pd.read_csv(path2, low_memory=False)\n",
        "df_pd_3 = pd.read_csv(path3, low_memory=False)"
      ],
      "metadata": {
        "id": "6DlK0watw2Kf"
      },
      "execution_count": null,
      "outputs": []
    },
    {
      "cell_type": "markdown",
      "source": [
        "# PRÉ-ANALISE DOS DF'S ORIGINAIS"
      ],
      "metadata": {
        "id": "GcSOpmvXbm8o"
      }
    },
    {
      "cell_type": "code",
      "source": [
        "#ANÁLISE DOS DF1, DF2 E DF3 RESPECTIVAMENTE\n",
        "df_pd_1.head(100)"
      ],
      "metadata": {
        "id": "xffVze_xnI5y"
      },
      "execution_count": null,
      "outputs": []
    },
    {
      "cell_type": "code",
      "source": [
        "#VERFICAÇÃO DA TIPAGEM DAS COLUNAS\n",
        "df_pd_1.dtypes"
      ],
      "metadata": {
        "id": "1w0HMdEpnJy5"
      },
      "execution_count": null,
      "outputs": []
    },
    {
      "cell_type": "code",
      "source": [
        "df_pd_2.dtypes"
      ],
      "metadata": {
        "id": "BUpcbnuQbm8o"
      },
      "execution_count": null,
      "outputs": []
    },
    {
      "cell_type": "code",
      "source": [
        "df_pd_3.dtypes"
      ],
      "metadata": {
        "id": "2vgmsoOdbm8o"
      },
      "execution_count": null,
      "outputs": []
    },
    {
      "cell_type": "code",
      "source": [
        "df_pd_1.shape"
      ],
      "metadata": {
        "id": "HzFy9p4Nbm8o"
      },
      "execution_count": null,
      "outputs": []
    },
    {
      "cell_type": "code",
      "source": [
        "df_pd_2.shape"
      ],
      "metadata": {
        "id": "nYqkOw1qbm8o"
      },
      "execution_count": null,
      "outputs": []
    },
    {
      "cell_type": "code",
      "source": [
        "df_pd_3.shape"
      ],
      "metadata": {
        "id": "nzeOaRQ0bm8o"
      },
      "execution_count": null,
      "outputs": []
    },
    {
      "cell_type": "code",
      "source": [
        "df_pd_1.count"
      ],
      "metadata": {
        "id": "f1tovwvLbm8o"
      },
      "execution_count": null,
      "outputs": []
    },
    {
      "cell_type": "code",
      "source": [
        "df_pd_2.count"
      ],
      "metadata": {
        "id": "eWrqb8oBbm8o"
      },
      "execution_count": null,
      "outputs": []
    },
    {
      "cell_type": "code",
      "source": [
        "df_pd_3.count"
      ],
      "metadata": {
        "id": "3E9MyB7Ebm8o"
      },
      "execution_count": null,
      "outputs": []
    },
    {
      "cell_type": "code",
      "source": [
        "df_pd_1.head(10)"
      ],
      "metadata": {
        "id": "eJp_D8llbm8o"
      },
      "execution_count": null,
      "outputs": []
    },
    {
      "cell_type": "code",
      "source": [
        "df_pd_2.head(10)"
      ],
      "metadata": {
        "id": "EqNtKXA6bm8o"
      },
      "execution_count": null,
      "outputs": []
    },
    {
      "cell_type": "markdown",
      "source": [
        "# VERIFICAÇÃO DE INCONSISTÊNCIAS NOS DF'S INDIVIDUALMENTE"
      ],
      "metadata": {
        "id": "MkrMygcnbm8p"
      }
    },
    {
      "cell_type": "code",
      "source": [
        "#POR MOTIVOS DE PROCESSAMENTO OPTAMOS POR VERIFICAR A COLUNA 'CNPJ/CEI Empregador' INDIVIDUALMENTE DE CADA DF.\n",
        "\n",
        "'df_pd_1'\n",
        "\n",
        "valores_estranhos = []\n",
        "for i in range(len(df_pd_1)):\n",
        "  try:\n",
        "    int(df_pd_1.loc[i , 'CNPJ/CEI Empregador'])\n",
        "  except Exception:\n",
        "    valores_estranhos.append(df_pd_1.loc[i , 'CNPJ/CEI Empregador'])\n",
        "print(valores_estranhos)\n"
      ],
      "metadata": {
        "id": "BwTUalTUbm8p"
      },
      "execution_count": null,
      "outputs": []
    },
    {
      "cell_type": "code",
      "source": [
        "'df_pd_2'\n",
        "\n",
        "valores_estranhos = []\n",
        "for i in range(len(df_pd_2)):\n",
        "  try:\n",
        "    int(df_pd_2.loc[i , 'CNPJ/CEI Empregador'])\n",
        "  except Exception:\n",
        "    valores_estranhos.append(df_pd_2.loc[i , 'CNPJ/CEI Empregador'])\n",
        "print(valores_estranhos)"
      ],
      "metadata": {
        "id": "ICY30N5Fbm8p"
      },
      "execution_count": null,
      "outputs": []
    },
    {
      "cell_type": "code",
      "source": [
        "'df_pd_3'\n",
        "\n",
        "valores_estranhos = []\n",
        "for i in range(len(df_pd_3)):\n",
        "  try:\n",
        "    int(df_pd_3.loc[i , 'CNPJ/CEI Empregador'])\n",
        "  except Exception:\n",
        "    valores_estranhos.append(df_pd_3.loc[i , 'CNPJ/CEI Empregador'])\n",
        "print(valores_estranhos)"
      ],
      "metadata": {
        "id": "hRY92P0Obm8p"
      },
      "execution_count": null,
      "outputs": []
    },
    {
      "cell_type": "code",
      "source": [
        "df_pd_3.dtypes"
      ],
      "metadata": {
        "id": "EPMUSU5cbm8m"
      },
      "execution_count": null,
      "outputs": []
    },
    {
      "cell_type": "code",
      "source": [
        "df_pd_3.dtypes"
      ],
      "metadata": {
        "id": "LL7DYaG9bm8m"
      },
      "execution_count": null,
      "outputs": []
    },
    {
      "cell_type": "markdown",
      "source": [
        "# CONCATENAÇÃO DOS DF'S ORIGINAIS"
      ],
      "metadata": {
        "id": "7ELR5movbm8p"
      }
    },
    {
      "cell_type": "code",
      "source": [
        "# CONCATENAÇÃO DOS 3 DF'S ORIGINAIS PARA UM ÚNICO DF\n",
        "df_pd_final = [df_pd_1, df_pd_2, df_pd_3]\n",
        "df_pd_final = pd.concat(df_pd_final)"
      ],
      "metadata": {
        "id": "62CZJEPNbm8p"
      },
      "execution_count": null,
      "outputs": []
    },
    {
      "cell_type": "code",
      "source": [
        "df_pd_final_teste = df_pd_final.copy\n",
        "df_pd_final_teste = df_pd_final"
      ],
      "metadata": {
        "id": "HThu9E0l0HEX"
      },
      "execution_count": null,
      "outputs": []
    },
    {
      "cell_type": "code",
      "source": [
        "df_pd_final_teste.dtypes"
      ],
      "metadata": {
        "id": "4hbFXkpcbm8n"
      },
      "execution_count": null,
      "outputs": []
    },
    {
      "cell_type": "code",
      "source": [
        "# ENVIO DO DF CONCATENADO PARA A BUCKET NA GCP\n",
        "df_pd_final.to_csv('gs://bc26-datasets-ivana/catweb_orig_export.csv',\n",
        "               storage_options={'token':'/content/aulas-bc26-ivana-b8f6bd3e55b9.json'}\n",
        ")"
      ],
      "metadata": {
        "id": "oJ0U9-HYbm8n"
      },
      "execution_count": null,
      "outputs": []
    },
    {
      "cell_type": "code",
      "source": [
        "#CONTAGEM DO TOTAL DE LINHAS NO DF\n",
        "len(df_pd_final.index)"
      ],
      "metadata": {
        "id": "_yzv7Mgcbm8n"
      },
      "execution_count": null,
      "outputs": []
    },
    {
      "cell_type": "markdown",
      "source": [
        "# BACKUP DOS DF'S"
      ],
      "metadata": {
        "id": "ZU839y96bm8n"
      }
    },
    {
      "cell_type": "code",
      "source": [
        "#ANTES DE INICIAR O TRATAMENTO DE DADOS FAZ-SE NECESSÁRIO UM BACKUP, PARA EM CASO DE UM POSSÍVEL ERRO, OS DADOS ESTAREM ASSEGURADOS\n",
        "bckup_df_pd_1 = df_pd_1.copy\n",
        "bckup_df_pd_2 = df_pd_2.copy\n",
        "bckup_df_pd_3 = df_pd_3.copy\n",
        "bckup_df_pd_final = df_pd_final.copy"
      ],
      "metadata": {
        "id": "9Gobxe6ugBTx"
      },
      "execution_count": null,
      "outputs": []
    },
    {
      "cell_type": "markdown",
      "source": [
        "#ENVIO DOS DF'S PARA O MongoDB"
      ],
      "metadata": {
        "id": "-sApTBHSbm8g"
      }
    },
    {
      "cell_type": "code",
      "source": [
        "#CONECTOR DO MONGO ATLAS\n",
        "uri = \"uri_mongo_db\"\n",
        "client = MongoClient(uri,\n",
        "                     tls=True,\n",
        "                     tlsCertificateKeyFile='certificate_key')"
      ],
      "metadata": {
        "id": "-aRs1ZRDbm8g"
      },
      "execution_count": null,
      "outputs": []
    },
    {
      "cell_type": "code",
      "source": [
        "#ESCOLHA DO DATABASE E COLEÇÃO - ORIG\n",
        "db = client['catweb_db_orig'] #DATABASE\n",
        "colecao_catweb = db['catweb_orig'] #COLEÇÃO\n",
        "db_tratado = client['catweb_db_tratado']\n",
        "collection_tratado = db['catweb_tratado']"
      ],
      "metadata": {
        "id": "isxpbgpBbm8g"
      },
      "execution_count": null,
      "outputs": []
    },
    {
      "cell_type": "code",
      "source": [
        "#ENVIO DOS DF'S POR PARTES 1/2/3 RESPECTIVAMENTE\n",
        "df_pd_1_dict = df_pd_1.to_dict(\"records\")\n",
        "colecao_catweb.insert_many(df_pd_1_dict)"
      ],
      "metadata": {
        "id": "9J33MJ6ebm8g"
      },
      "execution_count": null,
      "outputs": []
    },
    {
      "cell_type": "code",
      "source": [
        "df_pd_2_dict = df_pd_2.to_dict(\"records\")\n",
        "colecao_catweb.insert_many(df_pd_2_dict)"
      ],
      "metadata": {
        "colab": {
          "base_uri": "https://localhost:8080/"
        },
        "outputId": "db63c311-963a-4b7c-c17f-6bdddf79cf91",
        "id": "2ifF4fjzbm8h"
      },
      "execution_count": null,
      "outputs": [
        {
          "output_type": "execute_result",
          "data": {
            "text/plain": [
              "<pymongo.results.InsertManyResult at 0x7f4a130ddf10>"
            ]
          },
          "metadata": {},
          "execution_count": 229
        }
      ]
    },
    {
      "cell_type": "code",
      "source": [
        "df_pd_3_dict = df_pd_3.to_dict(\"records\")\n",
        "colecao_catweb.insert_many(df_pd_3_dict)"
      ],
      "metadata": {
        "colab": {
          "base_uri": "https://localhost:8080/"
        },
        "outputId": "13f38392-7855-4b29-9883-879dc1914c9f",
        "id": "AtThI5vEbm8h"
      },
      "execution_count": null,
      "outputs": [
        {
          "output_type": "execute_result",
          "data": {
            "text/plain": [
              "<pymongo.results.InsertManyResult at 0x7f379e583d60>"
            ]
          },
          "metadata": {},
          "execution_count": 16
        }
      ]
    },
    {
      "cell_type": "code",
      "source": [
        "colecao_catweb.count_documents({})"
      ],
      "metadata": {
        "colab": {
          "base_uri": "https://localhost:8080/"
        },
        "id": "sFBoeBAnndTR",
        "outputId": "3b517556-d1ac-4cd6-c67d-0a7f2458a07f"
      },
      "execution_count": null,
      "outputs": [
        {
          "output_type": "execute_result",
          "data": {
            "text/plain": [
              "247718"
            ]
          },
          "metadata": {},
          "execution_count": 230
        }
      ]
    },
    {
      "cell_type": "code",
      "source": [
        "#ENVIO DO DF CONCATENADO \n",
        "df_pd_final_dict = df_pd_final.to_dict(\"records\")\n",
        "colecao_catweb.insert_many(df_pd_final_dict)"
      ],
      "metadata": {
        "id": "HxC94TmcneKR"
      },
      "execution_count": null,
      "outputs": []
    },
    {
      "cell_type": "markdown",
      "source": [
        "# PRÉ-ANÁLISE DO DF CONCATENADO"
      ],
      "metadata": {
        "id": "NDQE48PQbm8n"
      }
    },
    {
      "cell_type": "code",
      "source": [
        "#PRÉ ANÁLISE COM O OBJETIVO DE ANALISAR O DF CONCATENADO/DISPOSIÇÃO DAS COLUNAS ASSIM COMO A PRÉVIA DE COMO ESTÃO A TIPAGEM DAS COLUNAS."
      ],
      "metadata": {
        "id": "K6x_SRIq4RGV"
      },
      "execution_count": null,
      "outputs": []
    },
    {
      "cell_type": "code",
      "source": [
        "df_pd_final.dtypes"
      ],
      "metadata": {
        "id": "LRfAsqMnbm8n"
      },
      "execution_count": null,
      "outputs": []
    },
    {
      "cell_type": "code",
      "source": [
        "df_pd_final.shape"
      ],
      "metadata": {
        "id": "URpsuVW6bm8n"
      },
      "execution_count": null,
      "outputs": []
    },
    {
      "cell_type": "code",
      "source": [
        "df_pd_final.count"
      ],
      "metadata": {
        "id": "9EH2GTvmbm8n"
      },
      "execution_count": null,
      "outputs": []
    },
    {
      "cell_type": "code",
      "source": [
        "df_pd_final.head(10)"
      ],
      "metadata": {
        "id": "m6Ilbzw3bm8n"
      },
      "execution_count": null,
      "outputs": []
    },
    {
      "cell_type": "code",
      "source": [
        "df_pd_final.tail(10)"
      ],
      "metadata": {
        "id": "bcZ3GvINbm8o"
      },
      "execution_count": null,
      "outputs": []
    },
    {
      "cell_type": "code",
      "source": [
        "pd.set_option('display.max_columns',100)"
      ],
      "metadata": {
        "id": "ZzU1-HTkbm8o"
      },
      "execution_count": null,
      "outputs": []
    },
    {
      "cell_type": "code",
      "source": [
        "df_pd_3.tail(10)"
      ],
      "metadata": {
        "id": "cR1AZJdsbm8p"
      },
      "execution_count": null,
      "outputs": []
    },
    {
      "cell_type": "code",
      "source": [
        "df_pd_2.tail(10)"
      ],
      "metadata": {
        "id": "G8fPfamjbm8p"
      },
      "execution_count": null,
      "outputs": []
    },
    {
      "cell_type": "code",
      "source": [
        "df_pd_1.tail(10)"
      ],
      "metadata": {
        "id": "oLfN8APlbm8p"
      },
      "execution_count": null,
      "outputs": []
    },
    {
      "cell_type": "code",
      "source": [
        "df_pd_3.head(10)"
      ],
      "metadata": {
        "id": "C2qmgHbZbm8o"
      },
      "execution_count": null,
      "outputs": []
    },
    {
      "cell_type": "markdown",
      "source": [
        "# TRATAMENTO DE DADOS\n",
        "\n",
        "---\n",
        "\n"
      ],
      "metadata": {
        "id": "iHHl4ZeLbm8h"
      }
    },
    {
      "cell_type": "code",
      "source": [
        "#VERIFICAÇÃO DE CADA COLUNA COM O OBJETIVO DE ENCONTRAR POSSÍVEIS INCONSISTÊNCIAS."
      ],
      "metadata": {
        "id": "Zv3Jw9pw4wE2"
      },
      "execution_count": null,
      "outputs": []
    },
    {
      "cell_type": "code",
      "source": [
        "df_pd_final.head()"
      ],
      "metadata": {
        "id": "gafkLes3bm8i"
      },
      "execution_count": null,
      "outputs": []
    },
    {
      "cell_type": "code",
      "source": [
        "pd.unique(df_pd_final['Agente  Causador  Acidente'])"
      ],
      "metadata": {
        "id": "wtUO0SYcbm8i"
      },
      "execution_count": null,
      "outputs": []
    },
    {
      "cell_type": "code",
      "source": [
        "pd.unique(df_pd_final['Data Acidente'])"
      ],
      "metadata": {
        "id": "53CeVT_3bm8i"
      },
      "execution_count": null,
      "outputs": []
    },
    {
      "cell_type": "code",
      "source": [
        "pd.unique(df_pd_final['CBO'])"
      ],
      "metadata": {
        "id": "Jo1OLjn3bm8i"
      },
      "execution_count": null,
      "outputs": []
    },
    {
      "cell_type": "code",
      "source": [
        "pd.unique(df_pd_final['CID-10'])"
      ],
      "metadata": {
        "id": "e8UoNzBjbm8i"
      },
      "execution_count": null,
      "outputs": []
    },
    {
      "cell_type": "code",
      "source": [
        "pd.unique(df_pd_final['CNAE2.0 Empregador'])"
      ],
      "metadata": {
        "id": "DQaXNafPbm8i"
      },
      "execution_count": null,
      "outputs": []
    },
    {
      "cell_type": "code",
      "source": [
        "pd.unique(df_pd_final['CNAE2.0 Empregador.1'])"
      ],
      "metadata": {
        "id": "Wa_lJUMIbm8i"
      },
      "execution_count": null,
      "outputs": []
    },
    {
      "cell_type": "code",
      "source": [
        "pd.unique(df_pd_final['Emitente CAT'])"
      ],
      "metadata": {
        "id": "R86ZwvVLbm8i"
      },
      "execution_count": null,
      "outputs": []
    },
    {
      "cell_type": "code",
      "source": [
        "pd.unique(df_pd_final['Espécie do benefício'])"
      ],
      "metadata": {
        "id": "5Y9PfOERbm8i"
      },
      "execution_count": null,
      "outputs": []
    },
    {
      "cell_type": "code",
      "source": [
        "pd.unique(df_pd_final['Filiação Segurado'])"
      ],
      "metadata": {
        "id": "XzEhv0Tnbm8i"
      },
      "execution_count": null,
      "outputs": []
    },
    {
      "cell_type": "code",
      "source": [
        "pd.unique(df_pd_final['Indica Óbito Acidente']) "
      ],
      "metadata": {
        "id": "w04nK1FCbm8i"
      },
      "execution_count": null,
      "outputs": []
    },
    {
      "cell_type": "code",
      "source": [
        "pd.unique(df_pd_final['Munic Empr'])"
      ],
      "metadata": {
        "id": "z1Yu_KF2bm8j"
      },
      "execution_count": null,
      "outputs": []
    },
    {
      "cell_type": "code",
      "source": [
        "pd.unique(df_pd_final['Natureza da Lesão'])"
      ],
      "metadata": {
        "id": "Spes5RE9bm8j"
      },
      "execution_count": null,
      "outputs": []
    },
    {
      "cell_type": "code",
      "source": [
        "pd.unique(df_pd_final['Origem de Cadastramento CAT'])"
      ],
      "metadata": {
        "id": "l0UizK8ybm8j"
      },
      "execution_count": null,
      "outputs": []
    },
    {
      "cell_type": "code",
      "source": [
        "pd.unique(df_pd_final['Parte Corpo Atingida'])"
      ],
      "metadata": {
        "id": "QieW2ccXbm8j"
      },
      "execution_count": null,
      "outputs": []
    },
    {
      "cell_type": "code",
      "source": [
        "pd.unique(df_pd_final['Sexo'])"
      ],
      "metadata": {
        "id": "29s0NkSjbm8j"
      },
      "execution_count": null,
      "outputs": []
    },
    {
      "cell_type": "code",
      "source": [
        "pd.unique(df_pd_final['Tipo do Acidente'])"
      ],
      "metadata": {
        "id": "unSuZ8yxbm8j"
      },
      "execution_count": null,
      "outputs": []
    },
    {
      "cell_type": "code",
      "source": [
        "pd.unique(df_pd_final['UF  Munic.  Acidente'])"
      ],
      "metadata": {
        "id": "GK-GAhptbm8j"
      },
      "execution_count": null,
      "outputs": []
    },
    {
      "cell_type": "code",
      "source": [
        "pd.unique(df_pd_final['UF Munic. Empregador'])"
      ],
      "metadata": {
        "id": "mac8mpQxbm8j"
      },
      "execution_count": null,
      "outputs": []
    },
    {
      "cell_type": "code",
      "source": [
        "pd.unique(df_pd_final['Data Acidente.1'])"
      ],
      "metadata": {
        "id": "WCQZ7PDIbm8j"
      },
      "execution_count": null,
      "outputs": []
    },
    {
      "cell_type": "code",
      "source": [
        "pd.unique(df_pd_final['Data Despacho Benefício'])"
      ],
      "metadata": {
        "id": "jT3-KkbJbm8j"
      },
      "execution_count": null,
      "outputs": []
    },
    {
      "cell_type": "code",
      "source": [
        "pd.unique(df_pd_final['Data Acidente.2'])"
      ],
      "metadata": {
        "id": "oac-XUiMbm8k"
      },
      "execution_count": null,
      "outputs": []
    },
    {
      "cell_type": "code",
      "source": [
        "pd.unique(df_pd_final['Data Emissão CAT'])"
      ],
      "metadata": {
        "id": "SFad3oBbbm8k"
      },
      "execution_count": null,
      "outputs": []
    },
    {
      "cell_type": "code",
      "source": [
        "pd.unique(df_pd_final['Data Nascimento'])"
      ],
      "metadata": {
        "id": "2kR-T2DGbm8k"
      },
      "execution_count": null,
      "outputs": []
    },
    {
      "cell_type": "code",
      "source": [
        "pd.unique(df_pd_final['CNPJ/CEI Empregador'])"
      ],
      "metadata": {
        "id": "I1aEC2CVbm8k"
      },
      "execution_count": null,
      "outputs": []
    },
    {
      "cell_type": "markdown",
      "source": [
        "#LIMPEZA DE INCONSISTÊNCIAS ENCONTRADAS"
      ],
      "metadata": {
        "id": "gXXfJo-K5KY2"
      }
    },
    {
      "cell_type": "code",
      "source": [
        "#SUBSTITUIÇÃO DA INCONSISTÊNCIA '{ñ class}' POR 'n_classificado' ATRIBUINDO ASSIM O SEU SIGNIFICADO E REMOVENDO AS CHAVES PARA QUE NÃO \n",
        "#HAJA PROBLEMA EM FUTURAS MANIPULAÇÕES DOS DADOS, INICIALMENTE TAMBEM FOI NECESSÁRIO RENOMEAR ALGUMAS COLUNAS \n",
        "#PARA FACILITAR A MANIPULAÇÃO DOS DADOS"
      ],
      "metadata": {
        "id": "yyeTLwct5zH-"
      },
      "execution_count": null,
      "outputs": []
    },
    {
      "cell_type": "code",
      "source": [
        "df_pd_final_teste.rename(columns={'Agente  Causador  Acidente':'ag_causador_acidente'}, inplace=True)"
      ],
      "metadata": {
        "id": "IZEdTN1-bm8k"
      },
      "execution_count": null,
      "outputs": []
    },
    {
      "cell_type": "code",
      "source": [
        "df_pd_final_teste.replace({'ag_causador_acidente':'{ñ class}'}, 'n_classificado', regex=True, inplace=True)"
      ],
      "metadata": {
        "id": "lL2AbzFM6PG1"
      },
      "execution_count": null,
      "outputs": []
    },
    {
      "cell_type": "code",
      "source": [
        "df_pd_final_teste.ag_causador_acidente"
      ],
      "metadata": {
        "id": "njUR_uqH5_fm"
      },
      "execution_count": null,
      "outputs": []
    },
    {
      "cell_type": "code",
      "source": [
        "#SUBSTITUINDO '{ñ class}' e '{ñ' por '000000-n_classificado', A INTENÇÃO DESTA SUBSTITUIÇÃO E INSERÇÃO DE UM CÓDIGO 'ZERADO' É PADRONIZAR A COLUNA JÁ QUE OS CBO'S POSSUEM \n",
        "#UMA ESPÉCIE DE CÓDIGO QUE O ANTECEDE, JÁ PLANEJANDO TAMBEM UMA POSSÍVEL SEPARAÇÃO DOS MESMOS, CRIANDO UMA NOVA COLUNA QUE RECEBERÁ O CÓDIGO. \n",
        "# bckup_df_pd_final.rename(columns={'CBO':'cbo'}, inplace=True)\n",
        "df_pd_final_teste.replace({'CBO':'{ñ'}, '000000-n_classificado', regex=True, inplace=True)\n",
        "df_pd_final_teste.replace({'CBO':'class}'}, '000000-n_classificado', regex=True, inplace=True)\n",
        "df_pd_final_teste.replace({'CBO':'000000-n_classificado 000000-n_classificado'},'000000-n_classificado', regex=True, inplace=True)\n",
        "df_pd_final_teste.replace({'CBO':'{ñ class}'}, '000000-n_classificado', regex=True, inplace=True)"
      ],
      "metadata": {
        "id": "Un-dik52bm8k"
      },
      "execution_count": null,
      "outputs": []
    },
    {
      "cell_type": "code",
      "source": [
        "df_pd_final_teste.CBO"
      ],
      "metadata": {
        "id": "Vgi87SDAI3Uq"
      },
      "execution_count": null,
      "outputs": []
    },
    {
      "cell_type": "code",
      "source": [
        "#SUBSTITUINDO '{ñ class}' e '{ñ' por '000000-n_classificado', A INTENÇÃO DESTA SUBSTITUIÇÃO E INSERÇÃO DE UM CÓDIGO 'ZERADO' É PADRONIZAR A COLUNA JÁ QUE A COLUNA CID-10 POSSUI\n",
        "#UMA ESPÉCIE DE CÓDIGO QUE O ANTECEDE, JÁ PLANEJANDO TAMBEM UMA POSSÍVEL SEPARAÇÃO DOS MESMOS, CRIANDO UMA NOVA COLUNA QUE RECEBERÁ O CÓDIGO.\n",
        "df_pd_final_teste.replace({'CID-10':'{ñ class}'}, '000.0 n_classificado', regex=True, inplace=True)"
      ],
      "metadata": {
        "id": "Okno0jJ3IrSz"
      },
      "execution_count": null,
      "outputs": []
    },
    {
      "cell_type": "code",
      "source": [
        "df_pd_final_teste.rename(columns={'CID-10':'cid_10'}, inplace=True)"
      ],
      "metadata": {
        "id": "JJQXnbJ58ay-"
      },
      "execution_count": null,
      "outputs": []
    },
    {
      "cell_type": "code",
      "source": [
        "df_pd_final_teste.cid_10"
      ],
      "metadata": {
        "id": "TK7F7Joi81um"
      },
      "execution_count": null,
      "outputs": []
    },
    {
      "cell_type": "code",
      "source": [
        "df_pd_final_teste.rename(columns={'CNAE2.0 Empregador.1':'cnae_empregador_1'}, inplace=True)\n",
        "df_pd_final_teste.replace({'cnae_empregador_1':'{ñ class}'}, 'n_classificado', regex=True, inplace=True)"
      ],
      "metadata": {
        "id": "M0qJCzECJUPy"
      },
      "execution_count": null,
      "outputs": []
    },
    {
      "cell_type": "code",
      "source": [
        "df_pd_final_teste.cnae_empregador_1"
      ],
      "metadata": {
        "id": "PHMOYaSs9V5K"
      },
      "execution_count": null,
      "outputs": []
    },
    {
      "cell_type": "code",
      "source": [
        "df_pd_final_teste.rename(columns={'Munic Empr':'munic_empr'}, inplace=True)\n",
        "df_pd_final_teste.replace({'Munic Empr':'{ñ class}'}, '000000-n_classificado', regex=True, inplace=True) "
      ],
      "metadata": {
        "id": "qQwdzDavKVMj"
      },
      "execution_count": null,
      "outputs": []
    },
    {
      "cell_type": "code",
      "source": [
        "df_pd_final_teste.munic_empr"
      ],
      "metadata": {
        "id": "Ju4Mtk6f9n_Z"
      },
      "execution_count": null,
      "outputs": []
    },
    {
      "cell_type": "code",
      "source": [
        "df_pd_final_teste.rename(columns={'Natureza da Lesão':'natureza_lesao'}, inplace=True)\n",
        "df_pd_final_teste.replace({'Natureza da Lesão':'{ñ class}'}, 'n_classificado', regex=True, inplace=True)"
      ],
      "metadata": {
        "id": "NRPJJsOxbm8k"
      },
      "execution_count": null,
      "outputs": []
    },
    {
      "cell_type": "code",
      "source": [
        "df_pd_final_teste.natureza_lesao"
      ],
      "metadata": {
        "id": "DVL0yYt392wI"
      },
      "execution_count": null,
      "outputs": []
    },
    {
      "cell_type": "code",
      "source": [
        "df_pd_final_teste.rename(columns={'Origem de Cadastramento CAT':'orig_cad_cat'}, inplace=True)\n",
        "df_pd_final_teste.replace({'orig_cad_cat':'{ñ class}'}, 'n_classificado', regex=True, inplace=True)\n",
        "df_pd_final_teste.replace({'orig_cad_cat':'{ñ class'}, 'n_classificado', regex=True, inplace=True)"
      ],
      "metadata": {
        "id": "0IYdapGVbm8k"
      },
      "execution_count": null,
      "outputs": []
    },
    {
      "cell_type": "code",
      "source": [
        "df_pd_final_teste.orig_cad_cat"
      ],
      "metadata": {
        "id": "JrhFecw7-J4l"
      },
      "execution_count": null,
      "outputs": []
    },
    {
      "cell_type": "code",
      "source": [
        "df_pd_final_teste.rename(columns={'Parte Corpo Atingida':'parte_corpo_atingida'}, inplace=True)\n",
        "df_pd_final_teste.replace({'parte_corpo_atingida':'{ñ class}'}, 'n_classificado', regex=True, inplace=True)"
      ],
      "metadata": {
        "id": "wiGA9G95bm8k"
      },
      "execution_count": null,
      "outputs": []
    },
    {
      "cell_type": "code",
      "source": [
        "df_pd_final_teste.parte_corpo_atingida"
      ],
      "metadata": {
        "id": "7xi7sRHJ-g5F"
      },
      "execution_count": null,
      "outputs": []
    },
    {
      "cell_type": "code",
      "source": [
        "df_pd_final_teste.rename(columns={'UF Munic. Empregador':'uf_munic_empregador'}, inplace=True)\n",
        "df_pd_final_teste.replace({'uf_munic_empregador':'Zerado'},0, regex=True, inplace=True)"
      ],
      "metadata": {
        "id": "SvrGEO4bMbuh"
      },
      "execution_count": null,
      "outputs": []
    },
    {
      "cell_type": "code",
      "source": [
        "df_pd_final_teste.uf_munic_empregador"
      ],
      "metadata": {
        "id": "DtaAWlmh_3ZS"
      },
      "execution_count": null,
      "outputs": []
    },
    {
      "cell_type": "code",
      "source": [
        "df_pd_final_teste.rename(columns={'Emitente CAT':'emitente_cat'}, inplace=True)\n",
        "df_pd_final_teste.replace({'emitente_cat':'{ñ class}'}, 'n_classificado', regex=True, inplace=True)"
      ],
      "metadata": {
        "id": "u-tMlQtObm8l"
      },
      "execution_count": null,
      "outputs": []
    },
    {
      "cell_type": "code",
      "source": [
        "df_pd_final_teste.emitente_cat"
      ],
      "metadata": {
        "id": "49bMoMnqAQIV"
      },
      "execution_count": null,
      "outputs": []
    },
    {
      "cell_type": "code",
      "source": [
        "df_pd_final_teste.rename(columns={'Filiação Segurado':'filiacao_segurado'}, inplace=True)\n",
        "df_pd_final_teste.replace({'filiacao_segurado':'{ñ class}'}, 'n_classificado', regex=True, inplace=True)"
      ],
      "metadata": {
        "id": "ZJVwbJBabm8l"
      },
      "execution_count": null,
      "outputs": []
    },
    {
      "cell_type": "code",
      "source": [
        "df_pd_final_teste.filiacao_segurado"
      ],
      "metadata": {
        "id": "pRl8oPXSAjb5"
      },
      "execution_count": null,
      "outputs": []
    },
    {
      "cell_type": "code",
      "source": [
        "#INCONSISTÊNCIA ENCONTRADA '...' QUE SERÁ SUBSTITUÍDA POR UM VALOR QUE NÃO INTERFIRA NO PROCESSO DE CONVERSÃO PARA DATETIME\n",
        "df_pd_final_teste.rename(columns={'Data Nascimento':'data_nascimento'}, inplace=True)\n",
        "df_pd_final_teste.replace({'data_nascimento':r'^...$'}, value=0, regex=True, inplace=True)"
      ],
      "metadata": {
        "id": "mHTSSfRxh461"
      },
      "execution_count": null,
      "outputs": []
    },
    {
      "cell_type": "code",
      "source": [
        "df_pd_final.tail(10)"
      ],
      "metadata": {
        "id": "6C5tGrI5xV7Q"
      },
      "execution_count": null,
      "outputs": []
    },
    {
      "cell_type": "code",
      "source": [
        "#AO CONSTATAR RETICÊNCIAS NA COLUNA CNPJ OPTAMOS POR PADRONIZAR COLOCANDO O NÚMERO 0\n",
        "df_pd_final_teste.rename(columns={'CNPJ/CEI Empregador':'cnpj_empregador'}, inplace=True)\n",
        "df_pd_final_teste.replace(to_replace={'cnpj_empregador':r'^...$'},value=0, regex=True, inplace=True)"
      ],
      "metadata": {
        "id": "1Hwi5YfXjVUz"
      },
      "execution_count": null,
      "outputs": []
    },
    {
      "cell_type": "code",
      "source": [
        "df_pd_final_teste.cnpj_empregador"
      ],
      "metadata": {
        "id": "Nu5Z65r1EGV2"
      },
      "execution_count": null,
      "outputs": []
    },
    {
      "cell_type": "code",
      "source": [
        "#INCONSISTÊNCIA ENCONTRADA '{ñ', QUE SERÁ SUBSTITUÍDA POR 'NaN', POIS SE TRATA DE UM DADO SENSÍVEL E AO ALTERAR PARA UM POSSÍVEL 'Não'\n",
        "#ESTARIAMOS ADULTERANDO UM DADO QUANDO NÃO SABEMOS SE DE FATO NÃO HOUVE ÓBITO.\n",
        "df_pd_final_teste.rename(columns={'Indica Óbito Acidente':'indica_obito_acidente'}, inplace=True)\n",
        "df_pd_final_teste.replace({'indica_obito_acidente':'{ñ'}, np.NaN, regex=True, inplace=True)"
      ],
      "metadata": {
        "id": "g3pIZnmAbm8l"
      },
      "execution_count": null,
      "outputs": []
    },
    {
      "cell_type": "code",
      "source": [
        "df_pd_final_teste.indica_obito_acidente"
      ],
      "metadata": {
        "id": "bhEAfmYOCBvp"
      },
      "execution_count": null,
      "outputs": []
    },
    {
      "cell_type": "code",
      "source": [
        "df_pd_final_teste.rename(columns={'Munic Empr':'munic_empr'}, inplace=True)\n",
        "df_pd_final_teste.replace({'munic_empr':'{ñ class}'}, 'n_classificado', regex=True, inplace=True)"
      ],
      "metadata": {
        "id": "r_qRHBD7gynp"
      },
      "execution_count": null,
      "outputs": []
    },
    {
      "cell_type": "code",
      "source": [
        "df_pd_final_teste.munic_empr"
      ],
      "metadata": {
        "id": "qilBECgqbm8l"
      },
      "execution_count": null,
      "outputs": []
    },
    {
      "cell_type": "code",
      "source": [
        "df_pd_final_teste.rename(columns={'Espécie do benefício': 'especie_beneficio'}, inplace=True)"
      ],
      "metadata": {
        "id": "DYVhZlx5bm8l"
      },
      "execution_count": null,
      "outputs": []
    },
    {
      "cell_type": "code",
      "source": [
        "df_pd_final_1 = df_pd_final_teste"
      ],
      "metadata": {
        "id": "vrrUBE3772yT"
      },
      "execution_count": null,
      "outputs": []
    },
    {
      "cell_type": "code",
      "source": [
        "df_pd_final_1.head()"
      ],
      "metadata": {
        "id": "8pVG1wwe8Ldl"
      },
      "execution_count": null,
      "outputs": []
    },
    {
      "cell_type": "markdown",
      "source": [
        "# INSIGHTS, FILTROS E GROUPBY"
      ],
      "metadata": {
        "id": "V5OQkoF_muXE"
      }
    },
    {
      "cell_type": "code",
      "source": [
        "pd.set_option('display.max_columns',170871)"
      ],
      "metadata": {
        "id": "cOZyTQViBxjP"
      },
      "execution_count": null,
      "outputs": []
    },
    {
      "cell_type": "code",
      "source": [
        "df_pd_final.head(50)"
      ],
      "metadata": {
        "id": "nIIOt0pXGJjb"
      },
      "execution_count": null,
      "outputs": []
    },
    {
      "cell_type": "code",
      "source": [
        "ft_sex_masc = df_pd_final.Sexo = 'Masculino'\n",
        "ft_sex_indeterminado = df_pd_final.Sexo == 'Indeterminado'\n",
        "ft_sex_n_informado = df_pd_final.Sexo == 'Não Informado'\n",
        "ft_sex_feminino = df_pd_final.Sexo == 'Feminino'"
      ],
      "metadata": {
        "id": "wEQkNVdwQuf2"
      },
      "execution_count": null,
      "outputs": []
    },
    {
      "cell_type": "code",
      "source": [
        "#GROUPBY PARA VERIFICAÇÃO DOS MAIORES AGENTES CAUSADORES DE ACIDENTES\n",
        "df_pd_final_1.groupby(['ag_causador_acidente']).size().sort_values(ascending=False)"
      ],
      "metadata": {
        "id": "MwfE4IFXZE8q"
      },
      "execution_count": null,
      "outputs": []
    },
    {
      "cell_type": "code",
      "source": [
        "#VERIFICAÇÃO DOS MAIORES AGENTES CAUSADORES DE ACIDENTES ASSIM COMO SUA RESPECTIVA PLOTAGEM\n",
        "df_pd_ag_causa = df_pd_final_1.ag_causador_acidente"
      ],
      "metadata": {
        "id": "h7JAereKFV7T"
      },
      "execution_count": null,
      "outputs": []
    },
    {
      "cell_type": "code",
      "source": [
        "df_pd_final_1.groupby(['ag_causador_acidente']).size().head(10).sort_values(ascending=False).plot.bar(xlabel='Agente Causador de Acidentes', ylabel = 'Frequencia', rot=90)"
      ],
      "metadata": {
        "id": "XQvn52llrz2u"
      },
      "execution_count": null,
      "outputs": []
    },
    {
      "cell_type": "code",
      "source": [
        "df_pd_final_1.dtypes"
      ],
      "metadata": {
        "id": "iDsT8z0kN7aI"
      },
      "execution_count": null,
      "outputs": []
    },
    {
      "cell_type": "code",
      "source": [
        "#VERIFICAÇÃO DAS LESÕES QUE MAIS OCORRERAM.\n",
        "df_pd_final_1.groupby(['natureza_lesao']).size().head(10).sort_values(ascending=False).plot.bar(xlabel='Natureza da Lesão', ylabel = 'Frequencia', rot=90)"
      ],
      "metadata": {
        "id": "vByEOQ_M7XRu"
      },
      "execution_count": null,
      "outputs": []
    },
    {
      "cell_type": "code",
      "source": [
        "#VERIFICAÇÃO DAS MÉTRICAS ENTRE OCORRÊNCIAS DE ÓBITO COM AUXÍLIO DE PLOTAGEM\n",
        "df_pd_final_1.groupby(['indica_obito_acidente']).size().sort_values(ascending=False)"
      ],
      "metadata": {
        "id": "TF22HolX1kyX"
      },
      "execution_count": null,
      "outputs": []
    },
    {
      "cell_type": "code",
      "source": [
        "df_pd_final_1.groupby(['indica_obito_acidente'],dropna=False).size().sort_values(ascending=False).plot.pie(figsize=(8,8))"
      ],
      "metadata": {
        "id": "O-V77mHH0l-u"
      },
      "execution_count": null,
      "outputs": []
    },
    {
      "cell_type": "code",
      "source": [
        "#VERIFICADO QUE DAS 873 INDICAÇÕES DE ÓBITO SOMENTE 1 ESTÁ RECEBENDO - 'Pensão por Morte Acidente do Trabalho'\n",
        "df_pd_final_1.groupby(['especie_beneficio']).size().sort_values(ascending=False)"
      ],
      "metadata": {
        "id": "n5rN-oRMDFBU"
      },
      "execution_count": null,
      "outputs": []
    },
    {
      "cell_type": "code",
      "source": [
        "#VERIFICAÇÃO DAS ESPÉCIES DO BENEFÍCIO, OU SEJA IDENTIFICAR AS MÉTRICAS DE QUANTOS ESTÃO RECEBENDO ALGUM TIPO DE BENEFÍCIO \n",
        "#EM RELAÇÃO AOS QUE SE ENCONTRAM EM PROCESSO ADMINISTRATIVO.\n",
        "df_pd_final_1.groupby(['especie_beneficio']).size().head(10).sort_values(ascending=False).plot.bar(xlabel='Espécie do benefício', ylabel = 'Quantidade', rot=90)"
      ],
      "metadata": {
        "id": "XGns2pu18Yk0"
      },
      "execution_count": null,
      "outputs": []
    },
    {
      "cell_type": "code",
      "source": [
        "#VERIFICADO QUE A MAIORIA DOS ACIDENTES OCORRERAM COM INDIVÍDUOS DO SEXO MASCULINO\n",
        "df_pd_final_1.groupby(['Sexo']).size().sort_values(ascending=False)"
      ],
      "metadata": {
        "id": "moYgcTWXcbpR"
      },
      "execution_count": null,
      "outputs": []
    },
    {
      "cell_type": "code",
      "source": [
        "#VERIFICADO QUE A MAIORIA DOS ACIDENTES SÃO DO TIPO TÍPICO\n",
        "df_pd_final_1.groupby(['Tipo do Acidente']).size().head(10).sort_values(ascending=False).plot.bar(xlabel='Tipo do Acidente', ylabel = 'Frequencia', rot=90)"
      ],
      "metadata": {
        "id": "XkaHs9a8FXHj"
      },
      "execution_count": null,
      "outputs": []
    },
    {
      "cell_type": "markdown",
      "source": [
        "# PYSPARK\n",
        "UTILIZAÇÃO DA BIBLIOTECA PYSPARK PARA DAR CONTINUIDADE AO TRATAMENTO DE DADOS.\n"
      ],
      "metadata": {
        "id": "ionyj4WKwiFN"
      }
    },
    {
      "cell_type": "code",
      "source": [
        "#CONFIGURAR A VARIÁVEL de AMBIENTE (SESSÃO) SPARK / VARIÁVEL DE SESSÃO QUE PERMITE O USO DO SPARK\n",
        "spark = (\n",
        "    SparkSession.builder\n",
        "                .master('local')\n",
        "                .appName('catweb')\n",
        "                .getOrCreate()\n",
        ")"
      ],
      "metadata": {
        "id": "nua5o8KIw867"
      },
      "execution_count": null,
      "outputs": []
    },
    {
      "cell_type": "code",
      "source": [
        "#MONTAGEM DO ESQUEMA DE COLUNAS CONTENDO A TIPAGEM DE CADA COLUNA VIA StructType\n",
        "esquema = (\n",
        "    StructType([\n",
        "        StructField('agente_causador_acidente', StringType()),\n",
        "        StructField('data_acidente', StringType()),\n",
        "        StructField('cbo', StringType()),\n",
        "        StructField('cid_10', StringType()),\n",
        "        StructField('cnae2_empregador', IntegerType()),\n",
        "        StructField('cnae2_empregador_1', StringType()),\n",
        "        StructField('emitente_cat', StringType()),\n",
        "        StructField('especie_beneficio', StringType()),\n",
        "        StructField('filiacao_segurado', StringType()),\n",
        "        StructField('indica_obito_acidente', StringType()),\n",
        "        StructField('munic_empr', StringType()),\n",
        "        StructField('natureza_da_lesao', StringType()),\n",
        "        StructField('origem_cadastramento_cat', StringType()),\n",
        "        StructField('parte_corpo_atingida', StringType()),\n",
        "        StructField('sexo', StringType()),\n",
        "        StructField('tipo_acidente', StringType()),\n",
        "        StructField('uf_municipio_acidente', StringType()),\n",
        "        StructField('uf_municipio_empregador', StringType()),\n",
        "        StructField('data_acidente_1', StringType()),\n",
        "        StructField('data_despacho_benefício', StringType()),\n",
        "        StructField('data_acidente_2', StringType()),\n",
        "        StructField('data_nascimento', StringType()),\n",
        "        StructField('data_emissao_cat', StringType()),\n",
        "        StructField('cnpj_cei_empregador', StringType())\n",
        "    ])\n",
        ")"
      ],
      "metadata": {
        "id": "XegDGMkiw9k_"
      },
      "execution_count": null,
      "outputs": []
    },
    {
      "cell_type": "code",
      "source": [
        "# CONVERSÃO DO DF, PANDAS PARA PYSPARK\n",
        "df_spark = spark.createDataFrame(df_pd_final_1, schema=esquema)\n",
        "df_spark.printSchema()\n",
        "df_spark.show()"
      ],
      "metadata": {
        "id": "UocRQ2JoRcYY"
      },
      "execution_count": null,
      "outputs": []
    },
    {
      "cell_type": "code",
      "source": [
        "#ANTES DE INICIAR O TRATAMENTO DE DADOS FAZ-SE NECESSÁRIO UM BACKUP, PARA EM CASO DE UM POSSÍVEL ERRO, OS DADOS ESTAREM ASSEGURADOS\n",
        "df_spark_bckup = df_spark"
      ],
      "metadata": {
        "id": "CG-a3CeVRyEn"
      },
      "execution_count": null,
      "outputs": []
    },
    {
      "cell_type": "markdown",
      "source": [
        "# PRÉ ANÁLISE"
      ],
      "metadata": {
        "id": "VkofwxrYR8Lo"
      }
    },
    {
      "cell_type": "code",
      "source": [
        "df_spark.printSchema()"
      ],
      "metadata": {
        "id": "Aym-jEPZSCeP"
      },
      "execution_count": null,
      "outputs": []
    },
    {
      "cell_type": "code",
      "source": [
        "df_spark.show(truncate=False)"
      ],
      "metadata": {
        "id": "FrM0mCMxSHN1"
      },
      "execution_count": null,
      "outputs": []
    },
    {
      "cell_type": "code",
      "source": [
        "df_spark.summary().show()"
      ],
      "metadata": {
        "id": "82xpc-A2SKM-"
      },
      "execution_count": null,
      "outputs": []
    },
    {
      "cell_type": "code",
      "source": [
        "df_spark.count()"
      ],
      "metadata": {
        "id": "9QNvi06fSNlu"
      },
      "execution_count": null,
      "outputs": []
    },
    {
      "cell_type": "code",
      "source": [
        "df_spark_distinct = df_spark.distinct()\n",
        "print('Distinct ns.: '+str(df_spark_distinct.count()))"
      ],
      "metadata": {
        "id": "VPcZirocSQOy",
        "colab": {
          "base_uri": "https://localhost:8080/"
        },
        "outputId": "58074785-047f-4f40-cda5-b7e1eabaed5e"
      },
      "execution_count": null,
      "outputs": [
        {
          "output_type": "stream",
          "name": "stdout",
          "text": [
            "Distinct ns.: 156749\n"
          ]
        }
      ]
    },
    {
      "cell_type": "markdown",
      "source": [
        "# TRATAMENTO DE DADOS"
      ],
      "metadata": {
        "id": "goWKcKNuSb6m"
      }
    },
    {
      "cell_type": "code",
      "source": [
        "#DROPAGEM DE LINHAS DUPLICADAS\n",
        "#FOI VERIFICADO NO MERGE DO PANDAS QUE O NÚMERO DE LINHAS RESULTANTE É O MESMO DA DROPAGEM AQUI NO PYSPARK. \n",
        "#CONSTAMOS AQUI QUE FIZEMOS NO PADAS O COMANDO CONCAT DAS DFS PARA CONSTAR A INTEGRIDADE DA SOMATÓRIA DE LINHAS DOS DFS E OPTAMOS POR DROPA-LAS NO PYSPARK"
      ],
      "metadata": {
        "id": "SrFudHdTSi7V"
      },
      "execution_count": null,
      "outputs": []
    },
    {
      "cell_type": "code",
      "source": [
        "df_spark = df_spark.dropDuplicates()"
      ],
      "metadata": {
        "id": "1sQhjqo2Tf7M"
      },
      "execution_count": null,
      "outputs": []
    },
    {
      "cell_type": "code",
      "source": [
        "# VERIFICAÇÃO DE LINHAS\n",
        "print('Contagem atual de rows: '+str(df_spark.count()))"
      ],
      "metadata": {
        "id": "7mraylUKTlsq"
      },
      "execution_count": null,
      "outputs": []
    },
    {
      "cell_type": "code",
      "source": [
        "#DROPAGEM DAS COLUNAS DE DATAS REPETIDAS COM VALORES MENORES\n",
        "#data_acidente e data_acidente_1 CONSTAM APENAS INFORMAÇÕES PARCIAIS COMO MES E ANO, \n",
        "#ENQUANTO A  coluna data_acidente_2 CONSTA DIA, MES e ANO REFERENTE A DATA ACIDENTE."
      ],
      "metadata": {
        "id": "b9zGlweNT8c6"
      },
      "execution_count": null,
      "outputs": []
    },
    {
      "cell_type": "code",
      "source": [
        "df_spark = df_spark.drop(*['data_acidente','data_acidente_1'])"
      ],
      "metadata": {
        "id": "EZbQ_gmKUlgQ"
      },
      "execution_count": null,
      "outputs": []
    },
    {
      "cell_type": "code",
      "source": [
        "df_spark.printSchema()"
      ],
      "metadata": {
        "id": "YadVzzUEUnI5"
      },
      "execution_count": null,
      "outputs": []
    },
    {
      "cell_type": "code",
      "source": [
        "# RENOMEAR A COLUNA data_acidente_2 PARA 'data_acidente', PERMANECENDO UMA SÓ COLUNA PARA DATA\n",
        "df_spark = df_spark.withColumnRenamed('data_acidente_2', 'data_acidente')"
      ],
      "metadata": {
        "id": "3x2_n6zyUpi4"
      },
      "execution_count": null,
      "outputs": []
    },
    {
      "cell_type": "code",
      "source": [
        "df_spark.printSchema()"
      ],
      "metadata": {
        "id": "W4wJkUj7F65D"
      },
      "execution_count": null,
      "outputs": []
    },
    {
      "cell_type": "code",
      "source": [
        "df_spark.summary().show()"
      ],
      "metadata": {
        "id": "uwag0TmAUyVI"
      },
      "execution_count": null,
      "outputs": []
    },
    {
      "cell_type": "code",
      "source": [
        "#DROPAGEM DA COLUNA uf_municipio_acidente\n",
        "#COLUNA INCONGRUENTE COM AS DEMAIS INFORMAÇÕES GEOGRÁFICAS CONSTANTES NO DF\n",
        "df_spark = df_spark.drop('uf_municipio_acidente')"
      ],
      "metadata": {
        "id": "WVlFYFyXVaC3"
      },
      "execution_count": null,
      "outputs": []
    },
    {
      "cell_type": "code",
      "source": [
        "df_spark.printSchema()"
      ],
      "metadata": {
        "id": "ktwb8oRPGAS0"
      },
      "execution_count": null,
      "outputs": []
    },
    {
      "cell_type": "code",
      "source": [
        "df_spark.summary().show()"
      ],
      "metadata": {
        "id": "xFYSfigZVgyP"
      },
      "execution_count": null,
      "outputs": []
    },
    {
      "cell_type": "markdown",
      "source": [
        "#FILTROS/SPARK"
      ],
      "metadata": {
        "id": "uuQjylyfgfoL"
      }
    },
    {
      "cell_type": "code",
      "source": [
        "df_spark.printSchema()"
      ],
      "metadata": {
        "id": "XO_NR2wqkBFB"
      },
      "execution_count": null,
      "outputs": []
    },
    {
      "cell_type": "code",
      "source": [
        "#FILTRO DA ÚNICA PESSOA QUE RECEBEU PENSÃO POR MORTE\n",
        "df_spark.filter(df_spark.especie_beneficio == 'Pensão por Morte Acidente do Trabalho').show(truncate=False)"
      ],
      "metadata": {
        "id": "WQVycPu9ymdJ"
      },
      "execution_count": null,
      "outputs": []
    },
    {
      "cell_type": "code",
      "source": [
        "df_spark.filter(df_spark.especie_beneficio == 'Pa').count()"
      ],
      "metadata": {
        "colab": {
          "base_uri": "https://localhost:8080/"
        },
        "id": "HxXnNVH_J0oa",
        "outputId": "eafcb476-dfac-4403-de97-701fd5f212b9"
      },
      "execution_count": null,
      "outputs": [
        {
          "output_type": "execute_result",
          "data": {
            "text/plain": [
              "116777"
            ]
          },
          "metadata": {},
          "execution_count": 83
        }
      ]
    },
    {
      "cell_type": "code",
      "source": [
        "#FILTRO DOS ACIDENTES QUE TIVERAM 'São Paulo' COMO UF DO EMPREGADOR\n",
        "df_spark.filter(df_spark.uf_municipio_empregador == 'São Paulo').show(truncate=False)"
      ],
      "metadata": {
        "id": "ZswItBKCpeOL"
      },
      "execution_count": null,
      "outputs": []
    },
    {
      "cell_type": "code",
      "source": [
        "#FILTRO PARA RETORNO DA PROFISSÃO, SEXO, INDICAÇÃO DE ÓBITO E O TIPO DE ACIDENTE SOMENTE DAS PESSOAS QUE SOFRERAM ÓBITO\n",
        "df_spark.select(F.col('cbo'), F.col('sexo'), F.col('indica_obito_acidente'), F.col('tipo_acidente')).filter(F.col('indica_obito_acidente') == 'Sim').show()"
      ],
      "metadata": {
        "id": "oFYJzermgtNz"
      },
      "execution_count": null,
      "outputs": []
    },
    {
      "cell_type": "code",
      "source": [
        "#FILTRO PARA RETORNO DA PROFISSÃO, SEXO, NATUREZA DA LESAO E O TIPO DE ACIDENTE SOMENTE DAS PESSOAS DE PESSOAS QUE SOFRERAM POR CAUSA DE DOENÇA\n",
        "df_spark.select(F.col('cbo'), F.col('sexo'), F.col('natureza_da_lesao'), F.col('tipo_acidente')).filter(F.col('tipo_acidente') == 'Doença').show()"
      ],
      "metadata": {
        "id": "nARiQ5HjhE65"
      },
      "execution_count": null,
      "outputs": []
    },
    {
      "cell_type": "code",
      "source": [
        "#FILTRO PARA RETORNO DA PROFISSÃO, SEXO, NATUREZA DA LESAO, INDICAÇÃO DE ÓBITO, TIPO DE ACIDENTE, DATA DE NASCIMENTO, PARTE DO CORPO ATINGIDA, DATA DO ACIDENTE DAS PESSOAS \n",
        "#QUE TIVERAM A CABEÇA COMO PARTE DO CORPO ATINGIDO\n",
        "df_spark.select(F.col('cbo'), F.col('sexo'), F.col('natureza_da_lesao'), F.col('indica_obito_acidente'), F.col('tipo_acidente'), F.col('data_nascimento'), F.col('parte_corpo_atingida'), F.col('data_acidente')).filter(F.col('parte_corpo_atingida') == 'Cabeca, Nic').show(truncate=False)"
      ],
      "metadata": {
        "id": "tv4rHkiIhMSC"
      },
      "execution_count": null,
      "outputs": []
    },
    {
      "cell_type": "code",
      "source": [
        "#FILTRO PARA RETORNO DA AGENTE CAUSADOR DO ACIDENTE, SEXO, NATUREZA DA LESAO, INDICAÇÃO DE ÓBITO E O TIPO DE ACIDENTE SOMENTE DAS PESSOAS DO SEXO FEMININO\n",
        "df_spark.select(F.col('agente_causador_acidente'), F.col('sexo'), F.col('natureza_da_lesao'), F.col('indica_obito_acidente'), F.col('tipo_acidente')).filter(F.col('sexo') == 'Feminino').show(truncate=False)"
      ],
      "metadata": {
        "id": "K7nW3KePhTPN"
      },
      "execution_count": null,
      "outputs": []
    },
    {
      "cell_type": "code",
      "source": [
        "#FILTRO PARA RETORNO DA AGENTE CAUSADOR DO ACIDENTE, CBO, SEXO, NATUREZA DA LESAO, TIPO DO ACIDENTE SOMENTE QUANDO O AGENTE CAUSADOR FOR BICICLETA\n",
        "df_spark.select(F.col('agente_causador_acidente'), F.col('cbo'), F.col('sexo'), F.col('natureza_da_lesao'), F.col('tipo_acidente')).filter(F.col('agente_causador_acidente') == 'Bicicleta').show()\n"
      ],
      "metadata": {
        "id": "IqBkUI2LhbZz"
      },
      "execution_count": null,
      "outputs": []
    },
    {
      "cell_type": "code",
      "source": [
        "# Filtro para retorno do sexo e incidencia óbito\n",
        "df_spark.select(F.col('sexo'), F.col('indica_obito_acidente'), F.col('sexo') == 'Feminino').filter(F.col('indica_obito_acidente') == 'Sim').show()"
      ],
      "metadata": {
        "id": "KFnUjdBZ5nOx"
      },
      "execution_count": null,
      "outputs": []
    },
    {
      "cell_type": "markdown",
      "source": [
        "# WINDOW FUNCTIONS\n"
      ],
      "metadata": {
        "id": "bEMfuGY1XxIa"
      }
    },
    {
      "cell_type": "code",
      "source": [
        "w0 = Window.orderBy('data_emissao_cat').partitionBy('indica_obito_acidente')\n",
        "w1 = Window.orderBy('uf_municipio_empregador')\n",
        "w2 = Window.orderBy('codigo_municipio')\n",
        "w4 = Window.partitionBy('data_emissao_cat').orderBy('especie_beneficio')\n",
        "w5 = Window.partitionBy('cid_10').orderBy('especie_beneficio')"
      ],
      "metadata": {
        "id": "wmqjgdQUKW6W"
      },
      "execution_count": null,
      "outputs": []
    },
    {
      "cell_type": "code",
      "source": [
        "df_spark.withColumn('dense_rank', dense_rank().over(w1)).show()"
      ],
      "metadata": {
        "id": "C7UH6PDmKkV7"
      },
      "execution_count": null,
      "outputs": []
    },
    {
      "cell_type": "code",
      "source": [
        "df_spark = df_spark.withColumn('dense_rank', dense_rank().over(w5))"
      ],
      "metadata": {
        "id": "hfXFzWSuLflm"
      },
      "execution_count": null,
      "outputs": []
    },
    {
      "cell_type": "code",
      "source": [
        "df_spark = df_spark.withColumn('rank', rank().over(w4))"
      ],
      "metadata": {
        "id": "-E70YgwaK72X"
      },
      "execution_count": null,
      "outputs": []
    },
    {
      "cell_type": "code",
      "source": [
        "df_spark.show()"
      ],
      "metadata": {
        "id": "3M8E_GpaLwDg"
      },
      "execution_count": null,
      "outputs": []
    },
    {
      "cell_type": "markdown",
      "source": [
        "# SPARKSQL"
      ],
      "metadata": {
        "id": "uZ3g7-yk6gOo"
      }
    },
    {
      "cell_type": "code",
      "source": [
        "#CRIAÇÃO DE TABELA EM SQL PARA EXECUTAR ALGUMAS QUERYS, UTILIZANDO A LINGUAGEM SQL."
      ],
      "metadata": {
        "id": "_AGDF6si_7v_"
      },
      "execution_count": null,
      "outputs": []
    },
    {
      "cell_type": "code",
      "source": [
        "spark.sql('show databases').show()"
      ],
      "metadata": {
        "id": "P9LxqPMF6pG9"
      },
      "execution_count": null,
      "outputs": []
    },
    {
      "cell_type": "code",
      "source": [
        "spark.sql('create database df_spark').show()"
      ],
      "metadata": {
        "id": "Dwr7hPzM6wDc"
      },
      "execution_count": null,
      "outputs": []
    },
    {
      "cell_type": "code",
      "source": [
        "spark.sql('show databases').show()"
      ],
      "metadata": {
        "id": "LXlAZwwj94Qu"
      },
      "execution_count": null,
      "outputs": []
    },
    {
      "cell_type": "code",
      "source": [
        "spark.sql('use df_spark')"
      ],
      "metadata": {
        "id": "lU9RmfPA-BQe"
      },
      "execution_count": null,
      "outputs": []
    },
    {
      "cell_type": "code",
      "source": [
        "spark.sql('SHOW TABLES').show()"
      ],
      "metadata": {
        "id": "COV3YOnF-OgN"
      },
      "execution_count": null,
      "outputs": []
    },
    {
      "cell_type": "code",
      "source": [
        "df_spark.write.saveAsTable('df_spark')"
      ],
      "metadata": {
        "id": "rWWKONDu_BD7"
      },
      "execution_count": null,
      "outputs": []
    },
    {
      "cell_type": "code",
      "source": [
        "spark.sql('show tables').show()"
      ],
      "metadata": {
        "id": "3nu15O1C_R9r"
      },
      "execution_count": null,
      "outputs": []
    },
    {
      "cell_type": "code",
      "source": [
        "spark.sql('select * from df_spark').show()"
      ],
      "metadata": {
        "id": "hI7zRvXl_Wd0",
        "colab": {
          "base_uri": "https://localhost:8080/",
          "height": 165
        },
        "outputId": "b6b98f26-c2aa-49ae-bdb7-70b36472e9db"
      },
      "execution_count": 1,
      "outputs": [
        {
          "output_type": "error",
          "ename": "NameError",
          "evalue": "ignored",
          "traceback": [
            "\u001b[0;31m---------------------------------------------------------------------------\u001b[0m",
            "\u001b[0;31mNameError\u001b[0m                                 Traceback (most recent call last)",
            "\u001b[0;32m<ipython-input-1-7090da167089>\u001b[0m in \u001b[0;36m<module>\u001b[0;34m\u001b[0m\n\u001b[0;32m----> 1\u001b[0;31m \u001b[0mspark\u001b[0m\u001b[0;34m.\u001b[0m\u001b[0msql\u001b[0m\u001b[0;34m(\u001b[0m\u001b[0;34m'select * from df_spark'\u001b[0m\u001b[0;34m)\u001b[0m\u001b[0;34m.\u001b[0m\u001b[0mshow\u001b[0m\u001b[0;34m(\u001b[0m\u001b[0;34m)\u001b[0m\u001b[0;34m\u001b[0m\u001b[0;34m\u001b[0m\u001b[0m\n\u001b[0m",
            "\u001b[0;31mNameError\u001b[0m: name 'spark' is not defined"
          ]
        }
      ]
    },
    {
      "cell_type": "markdown",
      "source": [
        "# INSIGHTS SPARKSQL"
      ],
      "metadata": {
        "id": "hPMRyckh_qAU"
      }
    },
    {
      "cell_type": "code",
      "source": [
        "#INSIGHT 1 - ORDENAÇÃO DA NATUREZA DA LESÃO POR ORDEM ALFABÉTICA\n",
        "spark.sql('select natureza_da_lesao FROM df_spark ORDER BY natureza_da_lesao asc;').show(truncate=False)"
      ],
      "metadata": {
        "id": "7tzY6F9l_zOS"
      },
      "execution_count": null,
      "outputs": []
    },
    {
      "cell_type": "code",
      "source": [
        "#INSIGHT 2 - EXIBIÇÃO DE TODAS AS OCORRÊNCIAS DE ÓBITOS\n",
        "spark.sql('select * FROM df_spark WHERE indica_obito_acidente = \"Sim\";').show(truncate=False)"
      ],
      "metadata": {
        "id": "HFeTqCfECj_L"
      },
      "execution_count": null,
      "outputs": []
    },
    {
      "cell_type": "code",
      "source": [
        "#INSIGHT 3 - SELEÇÃO DE TODOS OS ACIDENTES QUE 'Animal Vivo' como AGENTE CAUSADOR DO ACIDENTE\n",
        "spark.sql('select * FROM df_spark WHERE agente_causador_acidente = \"Animal Vivo\";').show(truncate=False)"
      ],
      "metadata": {
        "id": "OfO8JExiCWvs"
      },
      "execution_count": null,
      "outputs": []
    },
    {
      "cell_type": "code",
      "source": [
        "#INSIGHT 4 - SELEÇÃO DOS ACIDENTES QUE TIVERAM O DEDO COMO PARTE DO CORPO ATINGIDA\n",
        "spark.sql('select * FROM df_spark WHERE parte_corpo_atingida = \"Dedo\";').show(truncate=False)"
      ],
      "metadata": {
        "id": "gy3ddJp4KIra"
      },
      "execution_count": null,
      "outputs": []
    },
    {
      "cell_type": "code",
      "source": [
        "#INSIGHT 5 - SELECÃO DOS ACIDENTES QUE OCORRERAM COM PESSOAS QUE SÃO ENFERMEIRO(A)\n",
        "spark.sql('select * FROM df_spark WHERE cbo = \"223505-Enfermeiro\";').show(truncate=False)"
      ],
      "metadata": {
        "id": "RceY9-yWK1RK"
      },
      "execution_count": null,
      "outputs": []
    },
    {
      "cell_type": "code",
      "source": [
        "#INSIGHT 6 - ORDENAÇÃO DOS MUNICÍPIOS EM ORDEM ALFABÉTICA.\n",
        "spark.sql('select uf_municipio_empregador FROM df_spark ORDER BY uf_municipio_empregador asc;').show(truncate=False)"
      ],
      "metadata": {
        "id": "V3qBx5-oNJRc"
      },
      "execution_count": null,
      "outputs": []
    },
    {
      "cell_type": "markdown",
      "source": [
        "# CONVERSÃO PARA PANDAS "
      ],
      "metadata": {
        "id": "wDlkTX53ZVfK"
      }
    },
    {
      "cell_type": "code",
      "source": [
        "#OPTAMOS POR CONVERTER PARA O PANDAS PARA FACILITAR O ENVIO DOS ARQUIVOS PARA OS BANCOS."
      ],
      "metadata": {
        "id": "ZLR3zNOPrxDg"
      },
      "execution_count": null,
      "outputs": []
    },
    {
      "cell_type": "code",
      "source": [
        "df_pandas = df_spark.toPandas()"
      ],
      "metadata": {
        "id": "xZuScwJlZdB1"
      },
      "execution_count": null,
      "outputs": []
    },
    {
      "cell_type": "code",
      "source": [
        "df_catweb_tratado = df_pandas.copy"
      ],
      "metadata": {
        "id": "EzsCYjEbaIcH"
      },
      "execution_count": null,
      "outputs": []
    },
    {
      "cell_type": "markdown",
      "source": [
        "#INSTALAÇÃO DAS BIBLIOTECAS DO CONECTOR MYSQL"
      ],
      "metadata": {
        "id": "429GS16IAxiM"
      }
    },
    {
      "cell_type": "code",
      "source": [
        "!pip install mysql-connector-python"
      ],
      "metadata": {
        "id": "cP_MjVl4RBwr"
      },
      "execution_count": null,
      "outputs": []
    },
    {
      "cell_type": "code",
      "source": [
        "!pip install pymysql"
      ],
      "metadata": {
        "id": "0a6dKPYthdst"
      },
      "execution_count": null,
      "outputs": []
    },
    {
      "cell_type": "code",
      "source": [
        "import mysql.connector\n",
        "import pymysql\n",
        "from sqlalchemy import create_engine"
      ],
      "metadata": {
        "id": "MxkFkLBliFni"
      },
      "execution_count": null,
      "outputs": []
    },
    {
      "cell_type": "code",
      "source": [
        "import google.auth\n",
        "from google.auth.transport.requests import Request\n",
        "import sqlalchemy\n"
      ],
      "metadata": {
        "id": "gSnuskgMeDFb"
      },
      "execution_count": null,
      "outputs": []
    },
    {
      "cell_type": "markdown",
      "source": [
        "#ENVIO PARA O BUCKET NA GCP"
      ],
      "metadata": {
        "id": "cHnqk7dkBsyU"
      }
    },
    {
      "cell_type": "code",
      "source": [
        "df_pandas.to_csv()"
      ],
      "metadata": {
        "id": "Ddon3ePXmlM4"
      },
      "execution_count": null,
      "outputs": []
    },
    {
      "cell_type": "code",
      "source": [
        "#IMPORTAÇÃO DO DF TRATADO PARA O BUCKET\n",
        "df_pandas.to_csv('gs://bc26-datasets-ivana/catweb_tratado_export.csv',storage_options={'token':'token_gcp'})"
      ],
      "metadata": {
        "id": "-S9fHredpUb0"
      },
      "execution_count": null,
      "outputs": []
    },
    {
      "cell_type": "markdown",
      "source": [
        "#ENVIO PARA MYSQL"
      ],
      "metadata": {
        "id": "OQ6VSLoPByyE"
      }
    },
    {
      "cell_type": "code",
      "source": [
        "conexao = 'ip_address'\n",
        "nome_do_banco = 'database_name'\n",
        "usuario = 'user'\n",
        "senha = 'password' \n",
        "engine = create_engine( \"mysql+pymysql://{user}:{pw}@{host}/{db}\"\n",
        "              .format(host=conexao, db=nome_do_banco, user= usuario, pw=senha))\n",
        "\n",
        "df_pandas.to_sql(\"df_pandas\",engine,index=True,index_label='id')"
      ],
      "metadata": {
        "id": "okkV_UX8kqbw"
      },
      "execution_count": null,
      "outputs": []
    },
    {
      "cell_type": "markdown",
      "source": [
        "#ENVIO PARA O MONGO"
      ],
      "metadata": {
        "id": "V877MhsHQFJB"
      }
    },
    {
      "cell_type": "code",
      "source": [
        "#CONECTOR DO MONGO ATLAS\n",
        "uri = \"url_mongo_db\"\n",
        "client = MongoClient(uri,\n",
        "                     tls=True,\n",
        "                     tlsCertificateKeyFile='certificate_key')"
      ],
      "metadata": {
        "id": "v9g_Lm-LQAsW"
      },
      "execution_count": null,
      "outputs": []
    },
    {
      "cell_type": "code",
      "source": [
        "#ESCOLHA DO DATABASE E COLEÇÃO - ORIG\n",
        "db = client['catweb_tratado'] #DATABASE\n",
        "colecao_catweb = db['catweb_db_tratado'] #COLEÇÃO\n",
        "db_tratado = client['catweb_db_tratado']\n",
        "colecao_tratado = db['catweb_tratado']"
      ],
      "metadata": {
        "id": "I-2kAhyAQCWe"
      },
      "execution_count": null,
      "outputs": []
    },
    {
      "cell_type": "code",
      "source": [
        "df_catweb_tratado = df_pandas.to_dict(\"records\")\n",
        "colecao_tratado.insert_many(df_catweb_tratado)"
      ],
      "metadata": {
        "id": "DOccSIGCtSRD"
      },
      "execution_count": null,
      "outputs": []
    },
    {
      "cell_type": "code",
      "source": [
        "colecao_tratado.count_documents({})"
      ],
      "metadata": {
        "id": "7vtMZXrGM0Xb"
      },
      "execution_count": null,
      "outputs": []
    },
    {
      "cell_type": "markdown",
      "source": [
        "#FIM DO PROCESSO"
      ],
      "metadata": {
        "id": "-5N7sVfACNxk"
      }
    }
  ]
}